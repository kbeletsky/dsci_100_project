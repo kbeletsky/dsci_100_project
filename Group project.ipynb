{
 "cells": [
  {
   "cell_type": "markdown",
   "id": "fef3c5b8-cfa1-42d5-97fa-667ed57aad57",
   "metadata": {},
   "source": [
    "<div align=\"center\">\n",
    "\n",
    "## **Section 1: Title**\n",
    "\n",
    "</div>"
   ]
  },
  {
   "cell_type": "code",
   "execution_count": null,
   "id": "d762af62-a243-4e31-a3d5-b3dbff6783fc",
   "metadata": {},
   "outputs": [],
   "source": []
  },
  {
   "cell_type": "code",
   "execution_count": null,
   "id": "2da9f2c3-818e-4bce-bf2d-3b26b947431f",
   "metadata": {},
   "outputs": [],
   "source": []
  },
  {
   "cell_type": "code",
   "execution_count": null,
   "id": "c8e0f413-c5af-484c-a37c-6f7896ec8c53",
   "metadata": {},
   "outputs": [],
   "source": []
  },
  {
   "cell_type": "code",
   "execution_count": null,
   "id": "72f92e61-ac17-4386-be91-2dcce15616d4",
   "metadata": {},
   "outputs": [],
   "source": []
  },
  {
   "cell_type": "code",
   "execution_count": null,
   "id": "c39722a9-0853-476d-a054-3406ca2fd30c",
   "metadata": {},
   "outputs": [],
   "source": []
  },
  {
   "cell_type": "code",
   "execution_count": null,
   "id": "f9924cfc-65d9-4d17-b4f5-f362776e55f2",
   "metadata": {},
   "outputs": [],
   "source": []
  },
  {
   "cell_type": "markdown",
   "id": "7d57bc38-1436-4655-a92a-f86ef10dacd6",
   "metadata": {},
   "source": [
    "<div align=\"center\">\n",
    "\n",
    "## **Section 2: Introduction**\n",
    "\n",
    "</div>"
   ]
  },
  {
   "cell_type": "code",
   "execution_count": 1,
   "id": "29760e1d-1ccd-4f9c-a144-3864708bac97",
   "metadata": {},
   "outputs": [
    {
     "name": "stderr",
     "output_type": "stream",
     "text": [
      "── \u001b[1mAttaching core tidyverse packages\u001b[22m ──────────────────────── tidyverse 2.0.0 ──\n",
      "\u001b[32m✔\u001b[39m \u001b[34mdplyr    \u001b[39m 1.1.4     \u001b[32m✔\u001b[39m \u001b[34mreadr    \u001b[39m 2.1.5\n",
      "\u001b[32m✔\u001b[39m \u001b[34mforcats  \u001b[39m 1.0.0     \u001b[32m✔\u001b[39m \u001b[34mstringr  \u001b[39m 1.5.1\n",
      "\u001b[32m✔\u001b[39m \u001b[34mggplot2  \u001b[39m 3.5.1     \u001b[32m✔\u001b[39m \u001b[34mtibble   \u001b[39m 3.2.1\n",
      "\u001b[32m✔\u001b[39m \u001b[34mlubridate\u001b[39m 1.9.3     \u001b[32m✔\u001b[39m \u001b[34mtidyr    \u001b[39m 1.3.1\n",
      "\u001b[32m✔\u001b[39m \u001b[34mpurrr    \u001b[39m 1.0.2     \n",
      "── \u001b[1mConflicts\u001b[22m ────────────────────────────────────────── tidyverse_conflicts() ──\n",
      "\u001b[31m✖\u001b[39m \u001b[34mdplyr\u001b[39m::\u001b[32mfilter()\u001b[39m masks \u001b[34mstats\u001b[39m::filter()\n",
      "\u001b[31m✖\u001b[39m \u001b[34mdplyr\u001b[39m::\u001b[32mlag()\u001b[39m    masks \u001b[34mstats\u001b[39m::lag()\n",
      "\u001b[36mℹ\u001b[39m Use the conflicted package (\u001b[3m\u001b[34m<http://conflicted.r-lib.org/>\u001b[39m\u001b[23m) to force all conflicts to become errors\n",
      "── \u001b[1mAttaching packages\u001b[22m ────────────────────────────────────── tidymodels 1.1.1 ──\n",
      "\n",
      "\u001b[32m✔\u001b[39m \u001b[34mbroom       \u001b[39m 1.0.6     \u001b[32m✔\u001b[39m \u001b[34mrsample     \u001b[39m 1.2.1\n",
      "\u001b[32m✔\u001b[39m \u001b[34mdials       \u001b[39m 1.3.0     \u001b[32m✔\u001b[39m \u001b[34mtune        \u001b[39m 1.1.2\n",
      "\u001b[32m✔\u001b[39m \u001b[34minfer       \u001b[39m 1.0.7     \u001b[32m✔\u001b[39m \u001b[34mworkflows   \u001b[39m 1.1.4\n",
      "\u001b[32m✔\u001b[39m \u001b[34mmodeldata   \u001b[39m 1.4.0     \u001b[32m✔\u001b[39m \u001b[34mworkflowsets\u001b[39m 1.0.1\n",
      "\u001b[32m✔\u001b[39m \u001b[34mparsnip     \u001b[39m 1.2.1     \u001b[32m✔\u001b[39m \u001b[34myardstick   \u001b[39m 1.3.1\n",
      "\u001b[32m✔\u001b[39m \u001b[34mrecipes     \u001b[39m 1.1.0     \n",
      "\n",
      "── \u001b[1mConflicts\u001b[22m ───────────────────────────────────────── tidymodels_conflicts() ──\n",
      "\u001b[31m✖\u001b[39m \u001b[34mscales\u001b[39m::\u001b[32mdiscard()\u001b[39m masks \u001b[34mpurrr\u001b[39m::discard()\n",
      "\u001b[31m✖\u001b[39m \u001b[34mdplyr\u001b[39m::\u001b[32mfilter()\u001b[39m   masks \u001b[34mstats\u001b[39m::filter()\n",
      "\u001b[31m✖\u001b[39m \u001b[34mrecipes\u001b[39m::\u001b[32mfixed()\u001b[39m  masks \u001b[34mstringr\u001b[39m::fixed()\n",
      "\u001b[31m✖\u001b[39m \u001b[34mdplyr\u001b[39m::\u001b[32mlag()\u001b[39m      masks \u001b[34mstats\u001b[39m::lag()\n",
      "\u001b[31m✖\u001b[39m \u001b[34myardstick\u001b[39m::\u001b[32mspec()\u001b[39m masks \u001b[34mreadr\u001b[39m::spec()\n",
      "\u001b[31m✖\u001b[39m \u001b[34mrecipes\u001b[39m::\u001b[32mstep()\u001b[39m   masks \u001b[34mstats\u001b[39m::step()\n",
      "\u001b[34m•\u001b[39m Dig deeper into tidy modeling with R at \u001b[32mhttps://www.tmwr.org\u001b[39m\n",
      "\n"
     ]
    }
   ],
   "source": [
    "library(tidyverse)\n",
    "library(repr)\n",
    "library(tidymodels)\n",
    "library(dplyr)"
   ]
  },
  {
   "cell_type": "markdown",
   "id": "2140ef1c-c816-46af-8d39-347c0440a123",
   "metadata": {},
   "source": [
    "1.loads data \n",
    "2.wrangles and cleans the data to the format necessary for the planned analysis\n",
    "3.performs a summary of the data set that is relevant for exploratory data analysis related to the planned analysis \n",
    "4.creates a visualization of the dataset that is relevant for exploratory data analysis related to the planned analysis\n",
    "5.performs the data analysis\n",
    "6.creates a visualization of the analysis "
   ]
  },
  {
   "cell_type": "markdown",
   "id": "dd8ab201-5bd9-4391-91df-f676e628eba7",
   "metadata": {},
   "source": [
    "### **1)Load Data**"
   ]
  },
  {
   "cell_type": "code",
   "execution_count": 4,
   "id": "9c69219b-635b-45e1-9b7e-4278e75bfb62",
   "metadata": {},
   "outputs": [
    {
     "name": "stderr",
     "output_type": "stream",
     "text": [
      "\u001b[1mRows: \u001b[22m\u001b[34m196\u001b[39m \u001b[1mColumns: \u001b[22m\u001b[34m7\u001b[39m\n",
      "\u001b[36m──\u001b[39m \u001b[1mColumn specification\u001b[22m \u001b[36m────────────────────────────────────────────────────────\u001b[39m\n",
      "\u001b[1mDelimiter:\u001b[22m \",\"\n",
      "\u001b[31mchr\u001b[39m (4): experience, hashedEmail, name, gender\n",
      "\u001b[32mdbl\u001b[39m (2): played_hours, Age\n",
      "\u001b[33mlgl\u001b[39m (1): subscribe\n",
      "\n",
      "\u001b[36mℹ\u001b[39m Use `spec()` to retrieve the full column specification for this data.\n",
      "\u001b[36mℹ\u001b[39m Specify the column types or set `show_col_types = FALSE` to quiet this message.\n",
      "\u001b[1mRows: \u001b[22m\u001b[34m1535\u001b[39m \u001b[1mColumns: \u001b[22m\u001b[34m5\u001b[39m\n",
      "\u001b[36m──\u001b[39m \u001b[1mColumn specification\u001b[22m \u001b[36m────────────────────────────────────────────────────────\u001b[39m\n",
      "\u001b[1mDelimiter:\u001b[22m \",\"\n",
      "\u001b[31mchr\u001b[39m (3): hashedEmail, start_time, end_time\n",
      "\u001b[32mdbl\u001b[39m (2): original_start_time, original_end_time\n",
      "\n",
      "\u001b[36mℹ\u001b[39m Use `spec()` to retrieve the full column specification for this data.\n",
      "\u001b[36mℹ\u001b[39m Specify the column types or set `show_col_types = FALSE` to quiet this message.\n"
     ]
    }
   ],
   "source": [
    "#Read the two datasets\n",
    "player_url <- \"https://raw.githubusercontent.com/Rylee628/DSCI-Individual-Project/refs/heads/main/players.csv\"\n",
    "sessions_url <- \"https://raw.githubusercontent.com/Rylee628/DSCI-Individual-Project/refs/heads/main/sessions.csv\"\n",
    "players <- read_csv(player_url)\n",
    "sessions <- read_csv(sessions_url)"
   ]
  },
  {
   "cell_type": "markdown",
   "id": "19e5131e-ed7e-41db-bafc-25c62b768497",
   "metadata": {},
   "source": [
    "### **2)wrangles and cleans the data**"
   ]
  },
  {
   "cell_type": "code",
   "execution_count": 5,
   "id": "10059efa-7c15-4146-a3a5-24b51942719e",
   "metadata": {},
   "outputs": [
    {
     "data": {
      "text/html": [
       "0"
      ],
      "text/latex": [
       "0"
      ],
      "text/markdown": [
       "0"
      ],
      "text/plain": [
       "[1] 0"
      ]
     },
     "metadata": {},
     "output_type": "display_data"
    },
    {
     "data": {
      "text/html": [
       "<style>\n",
       ".dl-inline {width: auto; margin:0; padding: 0}\n",
       ".dl-inline>dt, .dl-inline>dd {float: none; width: auto; display: inline-block}\n",
       ".dl-inline>dt::after {content: \":\\0020\"; padding-right: .5ex}\n",
       ".dl-inline>dt:not(:first-of-type) {padding-left: .5ex}\n",
       "</style><dl class=dl-inline><dt>experience</dt><dd>0</dd><dt>subscribe</dt><dd>0</dd><dt>hashedEmail</dt><dd>0</dd><dt>played_hours</dt><dd>0</dd><dt>name</dt><dd>0</dd><dt>gender</dt><dd>0</dd><dt>Age</dt><dd>2</dd></dl>\n"
      ],
      "text/latex": [
       "\\begin{description*}\n",
       "\\item[experience] 0\n",
       "\\item[subscribe] 0\n",
       "\\item[hashedEmail] 0\n",
       "\\item[played\\textbackslash{}\\_hours] 0\n",
       "\\item[name] 0\n",
       "\\item[gender] 0\n",
       "\\item[Age] 2\n",
       "\\end{description*}\n"
      ],
      "text/markdown": [
       "experience\n",
       ":   0subscribe\n",
       ":   0hashedEmail\n",
       ":   0played_hours\n",
       ":   0name\n",
       ":   0gender\n",
       ":   0Age\n",
       ":   2\n",
       "\n"
      ],
      "text/plain": [
       "  experience    subscribe  hashedEmail played_hours         name       gender \n",
       "           0            0            0            0            0            0 \n",
       "         Age \n",
       "           2 "
      ]
     },
     "metadata": {},
     "output_type": "display_data"
    },
    {
     "data": {
      "text/html": [
       "<style>\n",
       ".dl-inline {width: auto; margin:0; padding: 0}\n",
       ".dl-inline>dt, .dl-inline>dd {float: none; width: auto; display: inline-block}\n",
       ".dl-inline>dt::after {content: \":\\0020\"; padding-right: .5ex}\n",
       ".dl-inline>dt:not(:first-of-type) {padding-left: .5ex}\n",
       "</style><dl class=dl-inline><dt>experience</dt><dd>0</dd><dt>subscribe</dt><dd>0</dd><dt>hashedEmail</dt><dd>0</dd><dt>played_hours</dt><dd>0</dd><dt>name</dt><dd>0</dd><dt>gender</dt><dd>0</dd><dt>Age</dt><dd>0</dd></dl>\n"
      ],
      "text/latex": [
       "\\begin{description*}\n",
       "\\item[experience] 0\n",
       "\\item[subscribe] 0\n",
       "\\item[hashedEmail] 0\n",
       "\\item[played\\textbackslash{}\\_hours] 0\n",
       "\\item[name] 0\n",
       "\\item[gender] 0\n",
       "\\item[Age] 0\n",
       "\\end{description*}\n"
      ],
      "text/markdown": [
       "experience\n",
       ":   0subscribe\n",
       ":   0hashedEmail\n",
       ":   0played_hours\n",
       ":   0name\n",
       ":   0gender\n",
       ":   0Age\n",
       ":   0\n",
       "\n"
      ],
      "text/plain": [
       "  experience    subscribe  hashedEmail played_hours         name       gender \n",
       "           0            0            0            0            0            0 \n",
       "         Age \n",
       "           0 "
      ]
     },
     "metadata": {},
     "output_type": "display_data"
    }
   ],
   "source": [
    "#Check for Duplicate Records for player data\n",
    "nrow(players) - nrow(distinct(players))\n",
    "#Check if there is NA value in Variables for session data\n",
    "colSums(is.na(players))\n",
    "#Remove NA value\n",
    "players <- players|>\n",
    "  filter(!is.na(Age))\n",
    "#Check again\n",
    "colSums(is.na(players))"
   ]
  },
  {
   "cell_type": "code",
   "execution_count": null,
   "id": "270f2075-77b0-42f8-b774-020ffc739161",
   "metadata": {},
   "outputs": [],
   "source": []
  },
  {
   "cell_type": "markdown",
   "id": "99ddfc04-e861-4b7a-987d-3ed7192eb41e",
   "metadata": {},
   "source": [
    "<div align=\"center\">\n",
    "\n",
    "## **Section 3: Methods & Results**\n",
    "\n",
    "</div>"
   ]
  },
  {
   "cell_type": "code",
   "execution_count": null,
   "id": "08f261f3-987f-452a-a380-50107fe47b9a",
   "metadata": {},
   "outputs": [],
   "source": []
  },
  {
   "cell_type": "code",
   "execution_count": null,
   "id": "3c89afbf-7015-4358-af9b-46f21fddac54",
   "metadata": {},
   "outputs": [],
   "source": []
  },
  {
   "cell_type": "code",
   "execution_count": null,
   "id": "740a6c0f-3e36-4916-a37c-7731ff961cc2",
   "metadata": {},
   "outputs": [],
   "source": []
  },
  {
   "cell_type": "code",
   "execution_count": null,
   "id": "dc2e799d-515a-4738-a0b0-d45dc6bcb2f2",
   "metadata": {},
   "outputs": [],
   "source": []
  },
  {
   "cell_type": "code",
   "execution_count": null,
   "id": "ebb0cf28-2bd6-4fd0-984f-71ef8abf5dba",
   "metadata": {},
   "outputs": [],
   "source": []
  },
  {
   "cell_type": "markdown",
   "id": "9fe73a1b-7cd4-42ad-8e32-f5f202cae3cb",
   "metadata": {},
   "source": [
    "<div align=\"center\">\n",
    "\n",
    "## **Section 4: Discussion:**\n",
    "\n",
    "</div>"
   ]
  },
  {
   "cell_type": "code",
   "execution_count": null,
   "id": "f4734e08-8da9-4ff2-a64a-8aeaa2dc8625",
   "metadata": {},
   "outputs": [],
   "source": []
  },
  {
   "cell_type": "code",
   "execution_count": null,
   "id": "a58b2638-5623-498b-a421-65f47bf8fee4",
   "metadata": {},
   "outputs": [],
   "source": []
  },
  {
   "cell_type": "code",
   "execution_count": null,
   "id": "e98a424a-40bc-4fdd-a674-62d78a788305",
   "metadata": {},
   "outputs": [],
   "source": []
  },
  {
   "cell_type": "code",
   "execution_count": null,
   "id": "26210cc8-878e-4f77-869b-f4eb6caedf74",
   "metadata": {},
   "outputs": [],
   "source": []
  },
  {
   "cell_type": "code",
   "execution_count": null,
   "id": "6f0517fc-4848-49fd-9f1a-007e67f4cfb5",
   "metadata": {},
   "outputs": [],
   "source": []
  },
  {
   "cell_type": "markdown",
   "id": "91e9e98a-e3ac-49f9-94d3-d80f80ac9f6d",
   "metadata": {},
   "source": [
    "<div align=\"center\">\n",
    "\n",
    "## **Section 5: References:**\n",
    "\n",
    "</div>"
   ]
  },
  {
   "cell_type": "code",
   "execution_count": null,
   "id": "e4a7ab49-e6de-4018-bf9c-7ecb90693294",
   "metadata": {},
   "outputs": [],
   "source": []
  },
  {
   "cell_type": "code",
   "execution_count": null,
   "id": "03aaf09f-a0ae-419c-93f8-9a93ba8d6ffa",
   "metadata": {},
   "outputs": [],
   "source": []
  },
  {
   "cell_type": "code",
   "execution_count": null,
   "id": "ccd0e778-deee-4747-a26d-aff06e2a26f6",
   "metadata": {},
   "outputs": [],
   "source": []
  },
  {
   "cell_type": "code",
   "execution_count": null,
   "id": "c5359d18-dd73-4b4e-92d1-ed23b344acec",
   "metadata": {},
   "outputs": [],
   "source": []
  }
 ],
 "metadata": {
  "kernelspec": {
   "display_name": "R",
   "language": "R",
   "name": "ir"
  },
  "language_info": {
   "codemirror_mode": "r",
   "file_extension": ".r",
   "mimetype": "text/x-r-source",
   "name": "R",
   "pygments_lexer": "r",
   "version": "4.3.3"
  }
 },
 "nbformat": 4,
 "nbformat_minor": 5
}
