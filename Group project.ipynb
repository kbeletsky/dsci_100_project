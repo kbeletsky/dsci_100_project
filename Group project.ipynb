{
 "cells": [
  {
   "cell_type": "markdown",
   "id": "fef3c5b8-cfa1-42d5-97fa-667ed57aad57",
   "metadata": {},
   "source": [
    "<div align=\"center\">\n",
    "\n",
    "## **Section 1: Title**\n",
    "\n",
    "</div>"
   ]
  },
  {
   "cell_type": "code",
   "execution_count": null,
   "id": "d762af62-a243-4e31-a3d5-b3dbff6783fc",
   "metadata": {},
   "outputs": [],
   "source": []
  },
  {
   "cell_type": "code",
   "execution_count": null,
   "id": "2da9f2c3-818e-4bce-bf2d-3b26b947431f",
   "metadata": {},
   "outputs": [],
   "source": []
  },
  {
   "cell_type": "code",
   "execution_count": null,
   "id": "c8e0f413-c5af-484c-a37c-6f7896ec8c53",
   "metadata": {},
   "outputs": [],
   "source": []
  },
  {
   "cell_type": "code",
   "execution_count": null,
   "id": "72f92e61-ac17-4386-be91-2dcce15616d4",
   "metadata": {},
   "outputs": [],
   "source": []
  },
  {
   "cell_type": "code",
   "execution_count": null,
   "id": "c39722a9-0853-476d-a054-3406ca2fd30c",
   "metadata": {},
   "outputs": [],
   "source": []
  },
  {
   "cell_type": "code",
   "execution_count": null,
   "id": "f9924cfc-65d9-4d17-b4f5-f362776e55f2",
   "metadata": {},
   "outputs": [],
   "source": []
  },
  {
   "cell_type": "markdown",
   "id": "7d57bc38-1436-4655-a92a-f86ef10dacd6",
   "metadata": {},
   "source": [
    "<div align=\"center\">\n",
    "\n",
    "## **Section 2: Introduction**\n",
    "\n",
    "</div>"
   ]
  },
  {
   "cell_type": "code",
   "execution_count": null,
   "id": "dd9f5f17-b798-4ec6-b30c-4f2fb0cb1d03",
   "metadata": {},
   "outputs": [],
   "source": []
  },
  {
   "cell_type": "code",
   "execution_count": null,
   "id": "2727c17b-27b1-44cc-ae54-f99637073184",
   "metadata": {},
   "outputs": [],
   "source": []
  },
  {
   "cell_type": "code",
   "execution_count": null,
   "id": "ced2719f-a75e-4e79-b20b-739b03474cc0",
   "metadata": {},
   "outputs": [],
   "source": []
  },
  {
   "cell_type": "code",
   "execution_count": null,
   "id": "10059efa-7c15-4146-a3a5-24b51942719e",
   "metadata": {},
   "outputs": [],
   "source": []
  },
  {
   "cell_type": "markdown",
   "id": "99ddfc04-e861-4b7a-987d-3ed7192eb41e",
   "metadata": {},
   "source": [
    "<div align=\"center\">\n",
    "\n",
    "## **Section 3: Methods & Results**\n",
    "\n",
    "</div>"
   ]
  },
  {
   "cell_type": "code",
   "execution_count": null,
   "id": "08f261f3-987f-452a-a380-50107fe47b9a",
   "metadata": {},
   "outputs": [],
   "source": []
  },
  {
   "cell_type": "code",
   "execution_count": null,
   "id": "3c89afbf-7015-4358-af9b-46f21fddac54",
   "metadata": {},
   "outputs": [],
   "source": []
  },
  {
   "cell_type": "code",
   "execution_count": null,
   "id": "740a6c0f-3e36-4916-a37c-7731ff961cc2",
   "metadata": {},
   "outputs": [],
   "source": []
  },
  {
   "cell_type": "code",
   "execution_count": null,
   "id": "dc2e799d-515a-4738-a0b0-d45dc6bcb2f2",
   "metadata": {},
   "outputs": [],
   "source": []
  },
  {
   "cell_type": "code",
   "execution_count": null,
   "id": "ebb0cf28-2bd6-4fd0-984f-71ef8abf5dba",
   "metadata": {},
   "outputs": [],
   "source": []
  },
  {
   "cell_type": "markdown",
   "id": "9fe73a1b-7cd4-42ad-8e32-f5f202cae3cb",
   "metadata": {},
   "source": [
    "<div align=\"center\">\n",
    "\n",
    "## **Section 4: Discussion:**\n",
    "\n",
    "</div>"
   ]
  },
  {
   "cell_type": "code",
   "execution_count": null,
   "id": "f4734e08-8da9-4ff2-a64a-8aeaa2dc8625",
   "metadata": {},
   "outputs": [],
   "source": []
  },
  {
   "cell_type": "code",
   "execution_count": null,
   "id": "a58b2638-5623-498b-a421-65f47bf8fee4",
   "metadata": {},
   "outputs": [],
   "source": []
  },
  {
   "cell_type": "code",
   "execution_count": null,
   "id": "e98a424a-40bc-4fdd-a674-62d78a788305",
   "metadata": {},
   "outputs": [],
   "source": []
  },
  {
   "cell_type": "code",
   "execution_count": null,
   "id": "26210cc8-878e-4f77-869b-f4eb6caedf74",
   "metadata": {},
   "outputs": [],
   "source": []
  },
  {
   "cell_type": "code",
   "execution_count": null,
   "id": "6f0517fc-4848-49fd-9f1a-007e67f4cfb5",
   "metadata": {},
   "outputs": [],
   "source": []
  },
  {
   "cell_type": "code",
   "execution_count": null,
   "id": "18a67dc1-ac26-48f6-b195-34a640b2d691",
   "metadata": {},
   "outputs": [],
   "source": []
  }
 ],
 "metadata": {
  "kernelspec": {
   "display_name": "Python 3 (ipykernel)",
   "language": "python",
   "name": "python3"
  },
  "language_info": {
   "codemirror_mode": {
    "name": "ipython",
    "version": 3
   },
   "file_extension": ".py",
   "mimetype": "text/x-python",
   "name": "python",
   "nbconvert_exporter": "python",
   "pygments_lexer": "ipython3",
   "version": "3.11.9"
  }
 },
 "nbformat": 4,
 "nbformat_minor": 5
}
